{
 "cells": [
  {
   "cell_type": "code",
   "execution_count": 1,
   "metadata": {},
   "outputs": [
    {
     "name": "stdout",
     "output_type": "stream",
     "text": [
      "1-conv-64-nodes-0-dense1615949892\n",
      "Train on 768 samples, validate on 193 samples\n",
      "Epoch 1/5\n",
      "768/768 [==============================] - 11s 14ms/sample - loss: 1.5633 - accuracy: 0.8815 - val_loss: 0.2602 - val_accuracy: 0.9430\n",
      "Epoch 2/5\n",
      "768/768 [==============================] - 10s 14ms/sample - loss: 0.2764 - accuracy: 0.9219 - val_loss: 0.2305 - val_accuracy: 0.9430\n",
      "Epoch 3/5\n",
      "768/768 [==============================] - 11s 14ms/sample - loss: 0.2032 - accuracy: 0.9362 - val_loss: 0.1640 - val_accuracy: 0.9430\n",
      "Epoch 4/5\n",
      "768/768 [==============================] - 10s 14ms/sample - loss: 0.1377 - accuracy: 0.9466 - val_loss: 0.1656 - val_accuracy: 0.9585\n",
      "Epoch 5/5\n",
      "768/768 [==============================] - 10s 13ms/sample - loss: 0.1064 - accuracy: 0.9648 - val_loss: 0.1600 - val_accuracy: 0.9585\n",
      "WARNING:tensorflow:From C:\\Users\\RAMBO\\anaconda3\\envs\\python37\\lib\\site-packages\\tensorflow_core\\python\\ops\\resource_variable_ops.py:1786: calling BaseResourceVariable.__init__ (from tensorflow.python.ops.resource_variable_ops) with constraint is deprecated and will be removed in a future version.\n",
      "Instructions for updating:\n",
      "If using Keras pass *_constraint arguments to layers.\n",
      "INFO:tensorflow:Assets written to: Covid.model\\assets\n"
     ]
    }
   ],
   "source": [
    "import numpy as np\n",
    "import tensorflow as tf\n",
    "from tensorflow.keras.models import Sequential\n",
    "from tensorflow.keras.layers import Dense, Dropout, Activation,Flatten,Conv2D,MaxPooling2D\n",
    "import pickle\n",
    "from tensorflow.keras.callbacks import TensorBoard\n",
    "import time\n",
    "\n",
    "#Name=\"MRI-BrainTumor-{}\".format(int(time.time()))\n",
    "\n",
    "#tensorboard = TensorBoard(log_dir='logs\\\\{}'.format(Name))\n",
    "\n",
    "X = pickle.load(open(\"X.pickle\",\"rb\"))\n",
    "y = pickle.load(open(\"y.pickle\",\"rb\"))\n",
    "\n",
    "##normalizing features and labels\n",
    "X= np.array(X/255.0)##has one channel. 180by180 961\n",
    "y = np.array(y)\n",
    "\n",
    "dense_layers=[0]\n",
    "layer_sizes=[64]\n",
    "conv_layers=[1]\n",
    "for dense_layer in dense_layers:\n",
    "    for layer_size in layer_sizes:\n",
    "        for conv_layer in conv_layers:\n",
    "            Name = \"{}-conv-{}-nodes-{}-dense{}\".format(conv_layer,layer_size,dense_layer,int(time.time()))\n",
    "            print(Name)\n",
    "            tensorboard = TensorBoard(log_dir='logs3\\\\{}'.format(Name))\n",
    "            model = Sequential()\n",
    "            ## conv layer\n",
    "            model.add(Conv2D(layer_size,(3,3),input_shape = X.shape[1:]))##[1:] here is passing the channel and the img size\n",
    "            model.add(Activation(\"relu\"))\n",
    "            model.add(MaxPooling2D(pool_size=(2,2)))\n",
    "            \n",
    "            for l in range(conv_layer-1):\n",
    "                model.add(Conv2D(layer_size,(3,3)))\n",
    "                model.add(Activation(\"relu\"))\n",
    "                model.add(MaxPooling2D(pool_size=(2,2)))\n",
    "                \n",
    "            model.add(Flatten())\n",
    "            \n",
    "            for l in range(dense_layer):\n",
    "                model.add(Dense(64))\n",
    "                model.add(Activation(\"relu\"))\n",
    "                #In simple terms, a dropout means that those neurons, which are selected at random, are ignored by the units \n",
    "                model.add(Dropout(0.2))\n",
    "            \n",
    "            \n",
    "\n",
    "            #model.add(Dense(64))\n",
    "            #model.add(Activation('relu'))\n",
    "\n",
    "            model.add(Dense(1))\n",
    "            model.add(Activation('sigmoid'))\n",
    "\n",
    "            model.compile(loss=\"binary_crossentropy\",\n",
    "                        optimizer=\"adam\", ##gradient desc\n",
    "                         metrics=['accuracy'])\n",
    "            model.fit(X,y,batch_size=50,epochs=5,validation_split=0.2,callbacks=[tensorboard])\n",
    "model.save('Covid.model')\n"
   ]
  },
  {
   "cell_type": "code",
   "execution_count": null,
   "metadata": {},
   "outputs": [],
   "source": []
  },
  {
   "cell_type": "code",
   "execution_count": null,
   "metadata": {},
   "outputs": [],
   "source": []
  },
  {
   "cell_type": "code",
   "execution_count": 6,
   "metadata": {},
   "outputs": [
    {
     "name": "stdout",
     "output_type": "stream",
     "text": [
      "              precision    recall  f1-score   support\n",
      "\n",
      "           0       0.78      0.47      0.58        15\n",
      "           1       0.96      0.99      0.97       178\n",
      "\n",
      "    accuracy                           0.95       193\n",
      "   macro avg       0.87      0.73      0.78       193\n",
      "weighted avg       0.94      0.95      0.94       193\n",
      "\n",
      "[[  7   8]\n",
      " [  2 176]]\n"
     ]
    }
   ],
   "source": [
    "################ K Nearest Neighbor #####################\n",
    "X = pickle.load(open(\"X.pickle\",\"rb\"))\n",
    "y = pickle.load(open(\"y.pickle\",\"rb\"))\n",
    "\n",
    "X= np.array(X/255.0)\n",
    "y = np.array(y)\n",
    "\n",
    "from sklearn.model_selection import train_test_split\n",
    "X_train, X_test, y_train,y_test=train_test_split(X,y,test_size=0.20,random_state=1)\n",
    "#print(X_train.shape)\n",
    "#print(X_test.shape)\n",
    "X_train = X_train.reshape(768,1*180*180)\n",
    "X_test = X_test.reshape(193,1*180*180)\n",
    "#y_train = X_train.reshape(202,1*100*100)\n",
    "#y_test = X_test.reshape(51,1*100*100)\n",
    "from sklearn.neighbors import KNeighborsClassifier\n",
    "classifier = KNeighborsClassifier(n_neighbors=5)\n",
    "classifier.fit(X_train,y_train)\n",
    "\n",
    "y_pred=classifier.predict(X_test)\n",
    "\n",
    "from sklearn.metrics import classification_report,confusion_matrix\n",
    "print(classification_report(y_test,y_pred))\n",
    "print(confusion_matrix(y_test,y_pred))\n"
   ]
  },
  {
   "cell_type": "code",
   "execution_count": 7,
   "metadata": {},
   "outputs": [
    {
     "name": "stdout",
     "output_type": "stream",
     "text": [
      "              precision    recall  f1-score   support\n",
      "\n",
      "           0       0.58      0.47      0.52        15\n",
      "           1       0.96      0.97      0.96       178\n",
      "\n",
      "    accuracy                           0.93       193\n",
      "   macro avg       0.77      0.72      0.74       193\n",
      "weighted avg       0.93      0.93      0.93       193\n",
      "\n",
      "[[  7   8]\n",
      " [  5 173]]\n"
     ]
    },
    {
     "name": "stderr",
     "output_type": "stream",
     "text": [
      "C:\\Users\\RAMBO\\anaconda3\\envs\\python37\\lib\\site-packages\\sklearn\\linear_model\\_logistic.py:765: ConvergenceWarning: lbfgs failed to converge (status=1):\n",
      "STOP: TOTAL NO. of ITERATIONS REACHED LIMIT.\n",
      "\n",
      "Increase the number of iterations (max_iter) or scale the data as shown in:\n",
      "    https://scikit-learn.org/stable/modules/preprocessing.html\n",
      "Please also refer to the documentation for alternative solver options:\n",
      "    https://scikit-learn.org/stable/modules/linear_model.html#logistic-regression\n",
      "  extra_warning_msg=_LOGISTIC_SOLVER_CONVERGENCE_MSG)\n"
     ]
    }
   ],
   "source": [
    "################ LOGISTIC REGRESSION #####################\n",
    "X = pickle.load(open(\"X.pickle\",\"rb\"))\n",
    "y = pickle.load(open(\"y.pickle\",\"rb\"))\n",
    "\n",
    "X= np.array(X/255.0)\n",
    "y = np.array(y)\n",
    "\n",
    "from sklearn.model_selection import train_test_split\n",
    "X_train, X_test, y_train,y_test=train_test_split(X,y,test_size=0.20,random_state=1)\n",
    "#print(X_train.shape)\n",
    "#print(y_test.shape)\n",
    "X_train = X_train.reshape(768,1*180*180)\n",
    "X_test = X_test.reshape(193,1*180*180)\n",
    "#y_train = X_train.reshape(202,1*100*100)\n",
    "#y_test = X_test.reshape(51,1*100*100)\n",
    "from sklearn.linear_model import LogisticRegression\n",
    "classifier = LogisticRegression()\n",
    "classifier.fit(X_train,y_train)\n",
    "\n",
    "y_pred=classifier.predict(X_test)\n",
    "\n",
    "from sklearn.metrics import classification_report,confusion_matrix\n",
    "print(classification_report(y_test,y_pred))\n",
    "print(confusion_matrix(y_test,y_pred))"
   ]
  },
  {
   "cell_type": "code",
   "execution_count": null,
   "metadata": {},
   "outputs": [],
   "source": []
  }
 ],
 "metadata": {
  "kernelspec": {
   "display_name": "Python 3",
   "language": "python",
   "name": "python3"
  },
  "language_info": {
   "codemirror_mode": {
    "name": "ipython",
    "version": 3
   },
   "file_extension": ".py",
   "mimetype": "text/x-python",
   "name": "python",
   "nbconvert_exporter": "python",
   "pygments_lexer": "ipython3",
   "version": "3.7.10"
  }
 },
 "nbformat": 4,
 "nbformat_minor": 4
}
