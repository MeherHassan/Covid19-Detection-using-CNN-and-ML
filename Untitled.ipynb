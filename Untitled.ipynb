{
 "cells": [
  {
   "cell_type": "code",
   "execution_count": 1,
   "metadata": {},
   "outputs": [],
   "source": [
    "import cv2\n",
    "import tensorflow as tf\n",
    "\n",
    "CATEGORIES=[\"Yes\",\"No\"]\n",
    "def prepare(filepath):\n",
    "    IMG_SIZE=100\n",
    "    img_array=cv2.imread(filepath,cv2,IMREAD_GRAYSCALE)\n",
    "    new_array=cv2.reshape(-1,IMG_SIZE,IMG_SIZE,1)\n",
    "    \n",
    "    model=tf.keras.models.load_model(\"MRI.model\")\n",
    "    \n",
    "    prediction=model.predict_classes([prepare('Y3.jpg')])\n",
    "    print(prediction)"
   ]
  },
  {
   "cell_type": "code",
   "execution_count": null,
   "metadata": {},
   "outputs": [],
   "source": []
  }
 ],
 "metadata": {
  "kernelspec": {
   "display_name": "Python 3",
   "language": "python",
   "name": "python3"
  },
  "language_info": {
   "codemirror_mode": {
    "name": "ipython",
    "version": 3
   },
   "file_extension": ".py",
   "mimetype": "text/x-python",
   "name": "python",
   "nbconvert_exporter": "python",
   "pygments_lexer": "ipython3",
   "version": "3.7.9"
  }
 },
 "nbformat": 4,
 "nbformat_minor": 4
}
